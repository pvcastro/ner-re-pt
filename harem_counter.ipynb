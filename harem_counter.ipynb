{
 "cells": [
  {
   "cell_type": "code",
   "execution_count": 1,
   "metadata": {},
   "outputs": [
    {
     "name": "stderr",
     "output_type": "stream",
     "text": [
      "/home/pedro/anaconda3/lib/python3.6/site-packages/requests/__init__.py:80: RequestsDependencyWarning: urllib3 (1.21.1) or chardet (2.3.0) doesn't match a supported version!\n",
      "  RequestsDependencyWarning)\n"
     ]
    }
   ],
   "source": [
    "from lxml import etree\n",
    "import spacy\n",
    "import pt_core_news_sm\n",
    "nlp = pt_core_news_sm.load()"
   ]
  },
  {
   "cell_type": "code",
   "execution_count": 2,
   "metadata": {
    "collapsed": true
   },
   "outputs": [],
   "source": [
    "tree = etree.parse('/media/discoD/Mestrado/HAREM/CDPrimeiroHAREMMiniHAREM.xml')"
   ]
  },
  {
   "cell_type": "code",
   "execution_count": 3,
   "metadata": {},
   "outputs": [
    {
     "name": "stdout",
     "output_type": "stream",
     "text": [
      "{'PESSOA': 840, 'LOCAL': 880, 'TEMPO': 362, 'ORGANIZACAO': 608, 'OBRA': 192, 'ABSTRACCAO': 212, 'VALOR': 328, 'COISA': 171, 'ACONTECIMENTO': 62, 'OUTRO': 14}\n"
     ]
    }
   ],
   "source": [
    "quantidade_por_categoria = {}\n",
    "for el in tree.iterfind('//EM'):\n",
    "    categoria = el.attrib['CATEG']\n",
    "    if categoria.find('|') > -1:\n",
    "        categoria = categoria.split('|')[0]\n",
    "    if categoria in quantidade_por_categoria:\n",
    "        quantidade = quantidade_por_categoria[categoria]\n",
    "    else:\n",
    "        quantidade = 0\n",
    "    quantidade_por_categoria[categoria] = quantidade + 1\n",
    "print(quantidade_por_categoria)"
   ]
  },
  {
   "cell_type": "code",
   "execution_count": 4,
   "metadata": {},
   "outputs": [
    {
     "name": "stdout",
     "output_type": "stream",
     "text": [
      "128 documents\n"
     ]
    }
   ],
   "source": [
    "count = 0\n",
    "for el in tree.iterfind('//DOC'):\n",
    "    count += 1\n",
    "print(count, 'documents')"
   ]
  },
  {
   "cell_type": "code",
   "execution_count": 5,
   "metadata": {
    "collapsed": true
   },
   "outputs": [],
   "source": [
    "tree_vazio = etree.parse('/media/discoD/Mestrado/HAREM/CDPrimeiroHAREMMiniHAREMvazia.xml')"
   ]
  },
  {
   "cell_type": "code",
   "execution_count": 6,
   "metadata": {},
   "outputs": [],
   "source": [
    "docs = []\n",
    "for el in tree_vazio.iterfind('//DOC'):\n",
    "    docs.append(el.text)"
   ]
  },
  {
   "cell_type": "code",
   "execution_count": 18,
   "metadata": {},
   "outputs": [
    {
     "data": {
      "text/plain": [
       "['\\n\\nW. JAMES\\nWillian James\\nWillian James, filósofo e psicólogo. Foi o mais influente dos pensadores dos EUA, criador do pragmatismo. Nasceu e, Nova Iorque, a 11 de Janeiro de 1842. O seu pai, Henru James, era um teólogo seguidor de Emanuel Swedenborg. Um dos seus irmãos foi o conhecido novelista Henry James. Concluiu os seus estudos de medicina, em 1870, na Universidade de Harvard, onde iniciou a sua carreira como professor de fisiologia em 1872. A partir de 1880 ensinou psicologia e filosofia em Harvard, universidade que abandonou em 1907, proferindo conferências nas universidades de Columbia e Oxford. Morreu em Chocorua, New Hampshire, a 26 de Agosto de 1910.\\nObras\\nPrincípios de Psicologia (1890), uma obra monumental que o projectou na comunidade científica e filosófica do tempo. A Vontade de Crer e Outros Ensaios Sobre Filosofia Popular (1897), A Imortalidade Humana (1898), Diversidade da Experiência Religiosa (1902). Pragmatismo: um nome novo para velhas formas de pensar (1907). Esta obra resume as contribuições de Willian James para o pragmatismo, termo empregue pela primeira vez por Charles Peirce.\\nPrincipais Domínios de Investigação\\nWillian James aplica à psicologia o princípio do funcionalismo, integrando-a no conjunto das ciências experimentais.\\nDurante décadas aplicou os seus métodos empíricos à investigação de temas religiosos e filosóficos. Explorou a questão da existência de Deus, a imortalidade da alma, o livre arbítrio e os valores éticos, como fonte da experiência religiosa e moral.\\nO método pragmático, desenvolvido a partir da análise do fundamento lógico das ciências, converte-se na base da avaliação de qualquer experiência. O significado das ideias só pode ser analisado a partir das suas consequências. Se não produzem efeitos as ideias não têm sentido As ideias metafisicas são desprovidas de sentido porque não podem ser comprovadas. As teorias com significado, segundo Willian James, são aquelas que permitem resolver problemas que decorrem da experiência. \\nCarlos Fontes\\nNavegando na Filosofia\\n',\n",
       " '\\n  Um pouco de HISTÓRIA\\n\\nNo passado dia 7 de Dezembro, os alunos do 1º Ciclo do Ensino Básico da Escola de Codeçoso, sob a orientação da professora, no âmbito do concurso promovido pela Biblioteca Municipal de Montalegre, decidiram entrevistar um par de idosos do lugar de Codeçoso, fregueisa da Venda Nova, sobre o Natal dos seus tempos de juventude, assim como algumas recordações que lhes deixaram saudade. Trata-se da senhora Teresa Gonçalves Bastos, de 88 anos e do senhor António Gonçalves Bastos de 90 anos.Mónica: - Será que podiam conversar um pouco connosco?\\n\\nD.Teresa: - \"Antão\" não haveríamos de querer conversar com estes três meninos tão azadinhos e com a senhora professora. \\n\\nMónica: - Lembra-se como festejava o Natal antigamente?\\n\\nD.Teresa: - Se lembro! Até me dão saudades!\\n\\nMónica:- O que costumavam comer na noite de Consoada?\\n\\nD.Teresa:- Comíamos um bocadinho de bacalhau, polvo, couves, batatas e no fim as rabanadas e a aletria.\\n\\nProfessora: - E já chegava cá o polvo nessa altura?\\n\\nD.Teresa:- Nós já o comíamos porque o senhor Domingos Afonso, que era muito nosso amigo e tinha uma loja de tudo em Braga, mandáva-nos sempre um caixote de mercearia, o bacalhau e o polvo seco. Depois deitava-o de molho e ficava cá com uns olhos!\\n\\nMónica:- E as pessoas cá da aldeia, como passavam elas a noite de Consoada?\\n\\nD.Teresa:- Para essa noite havia sempre. Era uma noite diferençada, é que esse Domingos Afonso, na maré do Natal, dava a todos os pobres um quilo de bacalhau, alguma mercearia e cinco mil reis em dinheiro.\\n\\nMónica:- O que se fazia durante o serão da noite de Consoada?\\n\\nD.Teresa:- No fim de comer rezava-se o terço. Depois, os vizinhos vinham até nossa casa. Os homens jogavam às cartas, as crianças e as mulheres olhavam e também se contavam histórias. Comia-se figos e bebia-se aguardente.\\n\\nMónica:- E o dia de Natal como era passado?\\n\\nD.Teresa:- Íamos à missinha e no fim íamos ao cemitério beijar a campa da minha mãezinha que Deus tem. Sabeis, é que eu fiquei sem mãe muito cedo e fui criada com o meu avô Manuel Fernandes Campos, que era um homem bom e farto. \\n\\nMónica:- E então como era o almoço no dia de Natal?\\n\\nD.Teresa:- Na nossa casa nunca faltava a vitela nesse dia porque o meu avô ia a Ruivães a pé, buscá-la.\\n\\nMónica:- E vestiam roupa nova?\\n\\nD.Teresa:- Ai roupa nova! Às vezes remendada e nos pés umas socas de madeira.\\n\\nMónica:- E nesse dia recebiam prendas?\\n\\nD.Teresa:- Num havia prendas para ninguém . O dinheiro era pouco. Num havia cá pinheiros nem luzes a piscar, havia muita alegria, coisa que agora é rara.\\n\\nProfessora:- Tem saudades do seu tempo de juventude?\\n\\nD.Teresa:- Se tenho! Antes me queria no tempo de \"dantes\". Agora é tudo triste e só se ouvem desgraças.\\n\\nProfessora:- Mas agora há mais fartura!\\n\\nD.Teresa:- Pois há, mas uma rachinha de bacalhau naquela altura sabia pela vida e agora nada sabe bem à gente. Esses venenos que botam na terra estragam tudo. Até as sardinhas sabiam melhor, e em minha casa, graças a Deus, apanhávamos cada fartote! Dava-se seis ovos e em troca recebíamos meio cento de sardinhas.\\n\\nMónica:- Sabe ler e escrever?\\n\\nD.Teresa:- Eu não, mas o meu irmão António fez o exame da 4º classe na Venda Nova. Aprendeu com a D.Maria da Conceição, mulher de um farmacêutico.\\n\\nProfessora:- Naquela altura, ter o exame da 4ª classe era bastante?\\n\\nSr.António:- Ai era! Fui para a tropa para Braga em 1930 e fui 1º Cabo. Quando acabei a tropa, vim a pé de Braga a Codeçoso e como as botas eram apertadas e pesadas, pu-las às costas.\\n\\nProfessora:- D.Teresa, ouvi dizer que lhe chamavam noutro tempo a \"Mãe dos pobres\", é verdade?\\n\\nD.Teresa:- Dava o que podia aos mais pobres porque naquele tempo havia fome. Todos queriam saber quando é que eu metia a fornada porque eu dava pão a quem precisava. Cozia sempre um bolo para a criançada e uma broa era logo espatifada no forno. E não estou arrependida, ainda cá fica muito. Se as esmolas valerem, eu tenho lá algumas.\\n\\nProfessora: - D.Teresa foi muito bom conversar consigo, até um dia deste e obrigada.\\n\\nD.Teresa:- Adeus senhora professora. Adeus meus meninos azadinhos. Até quando quiserem.\\n\\nA D.Teresa deu à Mónica uma moeda de 20$00 para deitar nas Alminhas. Regressámos à escola muito mais ricos e deveras entusiasmados com tão belo testemunho de vida. Resolvemos então registar, fazendo HISTÓRIA!....Este trabalho ficou classificado em terceiro lugar no concurso promovido pela Câmara Municipal de Montalegre, subordinado ao tema \"Natal Barrosão\".\\n',\n",
       " '\\n- Não faço mistério disso; mora com seu pai em uma pequena chácara no bairro de Santo Antônio, onde vivem modestamente, evitando relações, e aparecendo mui raras vezes em público. Nessa chácara, escondida entre moitas de coqueiros e arvoredos, vive ela como a violeta entre a folhagem, ou como fada misteriosa em uma gruta encantada. \\n\\n- É célebre! - retorquiu o doutor - mas como chegaste a descobrir essa ninfa encantada, e a ter entrada em sua gruta misteriosa? \\n\\n- Eu vos conto em duas palavras. Passando eu um dia a cavalo por sua chácara, avistei-a sentada em um banco do pequeno jardim da frente. Surpreendeu-me sua maravilhosa beleza. Como viu que eu a contemplava com demasiada curiosidade, esgueirou-se como uma borboleta entre os arbustos floridos e desapareceu. Formei o firme propósito de vê-la e de falar-lhe, custasse o que custasse. Por mais, porém, que indagasse por toda a vizinhança, não encontrei uma só pessoa que se relacionasse com ela e que pudesse apresentar-me. Indaguei por fim quem era o proprietário da chácara, e fui ter com ele. Nem esse podia dar-me informações, nem servir-me em coisa alguma. O seu inquilino vinha todos os meses pontualmente adiantar o aluguel da chácara; eis tudo quanto a respeito dele sabia. Todavia continuei a passar todas as tardes por defronte do jardim, mas a pé para melhor poder surpreendêla e admirá-la; quase sempre, porém, sem resultado. Quando acontecia estar no jardim, esquivava-se sempre às minhas vistas como da primeira vez. Um dia, porém, quando eu passava, caiu-lhe o lenço ao levantar-se do banco; a grade estava aberta; tomei a liberdade de penetrar no jardim, apanhei o lenço, e corri a entregar-lho, quando já ela punha o pé na soleira de sua casa. Agradeceu-me com um sorriso tão encantador, que estive em termos de cair de joelhos a seus pés; mas não mandou-me entrar, nem fez-me oferecimento algum. \\n\\n- Esse lenço, Álvaro, - atalhou um cavalheiro, - decerto ela o deixou cair de propósito, para que pudesses vê-la de perto e falar-lhe. É um apuro de romantismo, um delicado rasgo de coquetterie. \\n\\n- Não creio; não há naquele ente nem sombra de coquetterie; tudo nela respira candura e singeleza. O certo é que custei a arrancar meus pés daquele lugar, onde uma força magnética me retinha, e que parecia rescender um misterioso eflúvio de amor, de pureza e de aventura... \\n\\nÁlvaro pára em sua narrativa, como que embevecido em tão suaves recordações. \\n\\n- E ficaste nisso, Alvaro! - perguntava outro cavalheiro; - o teu romance está-nos interessando; vamos por diante, que estou aflito por ver a peripécia... \\n\\n- A peripécia?.., oh! essa ainda não chegou, e nem eu mesmo sei qual será. Esgotei enfim os estratagemas possíveis para ter entrada no santuário daquela deusa; mas foi tudo baldado. O acaso enfim veio em meu socorro, e serviu-me melhor do que toda a minha habilidade e diligência. Passeando eu uma tarde de carro no bairro de Santo Antônio, pelas margens do Beberibe, passeio que se tornara para mim uma devoção, avistei um homem e uma mulher navegando a todo pano em um pequeno bote. \\n\\nInstantes depois o bote achou-se encalhado em um banco de areia. \\n\\nApeei-me imediatamente, e tomando um escaler na praia, fui em socorro dos dois navegantes que em vão forcejavam por safar a pequena embarcação. Não podem fazer idéia da deliciosa surpresa que senti, ao reconhecer nas duas pessoas do bote a minha misteriosa da chácara e seu pai... \\n\\n- Por essa já eu esperava; entretanto o lance não deixa de ser dramático; a história de seus amores com a tal fada misteriosa vai tomando visos de um poema fantástico. \\n',\n",
       " '\\nCLIPSEGURO - o clipping mais SEGURO da Internet\\nNovo modelo de apólice cobrirá safra agrícola Data: 25/02/2000 Fonte: Jornal do Commercio Autor: Matéria: O Governo quer disponibilizar o novo modelo do seguro agrícola para os agricultores brasileiros já na próxima safra de grãos e frutas, que começa a ser cultivada em julho. \\n A informação é do ministro da Agricultura, Marcus Vinícius Pratini de Moraes, que já esteve reunido duas vezes com os seguradores para discutir o novo formato desse produto, o qual vem sendo desenhado com base na troca de informações entre Federação Nacional das Seguradoras (Fenaseg), Superintendência de Seguros Privados (Susep) e o Ministério da Agricultura. \\n Os seguradores também têm pressa na aprovação do produto. \\n A expectativa é de que o modelo em discussão possa ser posto em votação no Conselho Nacional de Seguros Privados (CNSP) já no próximo mês. \\n Na visão do ministro, o seguro agrícola terá importante papel a desempenhar no projeto do Governo de estimular a agricultura, através do programa Brasil Empreendedor Rural. \\n \"Esse seguro é a plataforma para desenvolvimento da agricultura\", assinalou Pratini de Moraes, no último encontro com seguradoras, há quinze \\n dias. \\n A adoção de um novo modelo de seguro agrícola no Brasil, com o apoio governamental, provocou um aumento do interesse de grupos estrangeiros na compra da Companhia de Seguros do Estado de São Paulo (Cosesp). \\n Embora tenha acumulado resultados negativos nesse ramo de seguro, a Cosesp tem uma extensa carteira de negócios, que inclui produtores rurais. \\n Um prato cheio para conglomerados do exterior, voltados para o ramo agrícola, que fazem planos para explorar o quase virgem mercado brasileiro em de coberturas para o agrobusiness. \\n',\n",
       " '\\nQual é o seu nome?\\n\\nVentura Pires da Cruz.\\n\\nLocal de nascimento?\\n\\nPisões.\\n\\nQuando é que nasceu?\\n\\nDia 7 de Maio de 1939.\\n\\nQual é o nome do seu pai?\\n\\nJosé Pires da Cruz.\\n\\nQual é o nome da sua mãe?\\n\\nAurintina Afonso.\\n\\nDiga o nome dos seus avós?\\n\\nNão me lembro.\\n\\nSabe a origem do nome da sua família?\\n\\nNos Pisões e em Brandim.\\n\\nDe onde vieram os seus avós?\\n\\nO pai do meu pai era de Viade e a minha avó da Venda Nova.\\n\\nDe onde vieram os seu pais?\\n\\nO meu pai de Pisões e a minha mãe de Brandim.\\n\\nQuantos irmãos tem ?\\n\\nIrmãos éramos sete e agora somos dois e uma irmã.\\n\\nDescreva a casa onde morou durante a sua infância.\\n\\nEra de 2 andares e feita de pau.\\n\\nQuem morava na casa?\\n\\nO meu pai, a minha mãe e os meus irmãos.\\n\\nComo eram divididas as tarefas?\\n\\nUm ia com as ovelhas, outras com as cabras e outros lavravam as terras.\\n\\nQuais eram os momentos mais marcantes na sua família?\\n\\nA primeira vez que calcei umas botas tinha 18 anos.\\n\\nEm que local ficava a sua casa?\\n\\nFicava onde é a central.\\n\\nGostava da sua casa?\\n\\nGostava.\\n\\nQual era a actividade dos seus pais?\\n\\nTrabalhavam na agricultura.\\n\\nQuem tinha mais autoridade na família?\\n\\nEra o pai.\\n\\nComo descreveria o seu pai?\\n\\nO meu pai era médio.\\n\\nComo descreveria a sua mãe?\\n\\nEra gorda.\\n\\nVocê relacionava-se melhor com algum deles? Porquê?\\n\\nMais com a mãe porque era mais boa.\\n\\nComo descreveria os seus irmãos?\\n\\nEram bons.\\n\\nComo era a relação entre vocês?\\n\\nDávamo-nos bem.\\n\\nConvivia com que membros da família?\\n\\nCom todos e com um bando de cabras e vacas.\\n\\nQuais as actividades incentivadas pela sua família?\\n\\nGosto de lavrar com arados de paus.\\n\\nQuando é que entrou na escola?\\n\\nEntrei com 7 anos.\\n\\nQual foi a sua primeira escola?\\n\\nFoi no Antigo de Viade.\\n\\nQual é a sua lembrança mais forte da escola?\\n\\nDe ir a pé e voltar a pé. Levava um saco com broa e carne forda.\\n\\nComo é que descreveria a educação que recebeu?\\n\\nFoi boa além de não haver comida.\\n\\nQuais as principais características dessa educação?\\n\\nEra dada pela mãe e do pai.\\n\\nO que é que essa educação influenciou a sua personalidade?\\n\\nAcho que havia mais educação.\\n\\nAté que idade estudou?\\n\\nEstudei pouco, entrei com 7 anos saí com 11 anos.\\n\\nComo ia para a escola?\\n\\nIa a pé 7 km.\\n\\nComo é que se descreveria como criança?\\n\\nEra como vós hoje.\\n\\nComo era a sua relação com os amigos?\\n\\nEra malhar o corpo aos outros.\\n\\nComo era a relação com a família?\\n\\nÉramos amigos.\\n\\nO que queria ser quando crescesse?\\n\\nMotorista.\\n\\nQuais eram as suas brincadeiras preferidas?\\n\\nÀ choca e jogar à bola feita de trapos.\\n\\nQuando é que saiu da casa dos seus pais? Porquê? Conte-nos como foi essa mudança de casa.\\n\\nSaí quando tinha 18 anos porque queria ser independente. A mudança de casa foi triste.\\n\\nÉ casado? Conte-nos como foi o seu casamento e o namoro.\\n\\nSou. Escrevíamos por cartas.\\n\\nTem filhos?\\n\\nTenho.\\n\\nTem netos?\\n\\nTenho 6 netos.\\n\\nQuando é que chegou a Pisões?\\n\\nEu morei sempre aqui. Morei sempre na moagem no meio do monte.\\n\\nQual foi a sua primeira impressão da aldeia?\\n\\nFoi sempre bonita.\\n\\nQual é a lembrança desta aldeia?\\n\\nEram os moinhos.\\n\\nComo escolheu o queria fazer? Porquê?\\n\\nQueria saber ler e escrever.\\n\\nO que fez depois disso?\\n\\nFui tirar a carta de condução.\\n\\nGostaria de ter continuado a estudar?\\n\\nGostava.\\n\\nQual foi o seu primeiro trabalho?\\n\\nEra ir com as cabras e lavrar nos campos do meu pai.\\n\\nFoi escolha própria ou por pressão familiar?\\n\\nPorque a família precisava.\\n\\nGosta do que faz profissionalmente?\\n\\nGostava do que fazia.\\n\\nSe nascesse novamente escolheria a mesma profissão?\\n\\nNão.\\n\\nCom quem mora actualmente?\\n\\nCom a mulher e com os filhos.\\n\\nActualmente, qual é a actividade mais importante da sua vida?\\n\\nÉ ser motorista.\\n\\nQuais são as suas principais preocupações?\\n\\nÉ fazer tudo bem feito.\\n\\nO que é que faz nas suas horas de lazer?\\n\\nVou ver os campos.\\n\\nQual é o seu maior desejo?\\n\\nÉ comprar um bom carro.\\n\\nO que espera da vida?\\n\\nQue melhore.\\n\\nTeve alguma decepção?\\n\\nSim.\\n\\nQuais são os seus sonhos?\\n\\nÉ que a vida corra melhor do que tem corrido.\\n\\nQual é a sua melhor qualidade?\\n\\nÉ o descanso onde tenho pouco tempo para descansar.\\n\\nTem facilidade nos relacionamentos?\\n\\nNão.\\n\\nComo descreveria a sua vida hoje?\\n\\nQue a vida hoje é mais fácil\\n\\nO que achou da entrevista?\\n\\nMuito boa.\\n',\n",
       " '\\nA.Casa.do.Mp3@trd.sintef.no\\n\\nMais de 7.500 músicas em MP3 de todos gêneros !!! \\n· Para você que quer ter uma coleção de músicas para seu computador ou mesmo para ouvir no seu novo aparelho de MP3, não perca essa oportunidade. \\nSe você já tem sua coleção própria de MP3, aproveite para aumentar sua coleção. \\n· Este é um pacote com milhares de músicas de bandas e artistas dos mais variados gêneros musicais para incrementar sua coletânea. \\nNão perca mais seu tempo fazendo download. \\nAcesse o site abaixo e veja a lista completa das músicas. \\n· São 40 CDs repletos de músicas totalizando mais de 28GB só em MP3 !!! \\nOs CDs são de boa qualidade e gravados em velocidade compatível assegurando assim uma ótima durabilidade. \\nOs arquivos MP3 estão organizados e renomeados. \\nNão perca esta oportunidade, entre já !!! \\nMaiores informações, acesse: \\n- www.casadomp31.kit.net -.\\n',\n",
       " '\\nBuBix.net\\nBuBix.net - Revista Online http://www.bubix.net\\n Governo chinês quer alternativa ao Windows\\n Colocado em Net&Tek por Miguel Silva Costa em Quarta, Julho 31 2002 @ 11:21 WEST Informação sobre Internet e Tecnologia De acordo com um jornal chinês, o governo daquele país planeia criar um sistema operativo que concorra com o Windows, da Microsoft. Especialistas acreditam que o sistema poderia ser criado a partir de programas já disponíveis gratuitamente na internet. \\n O \"Diário do Povo\", que está relacionado com o governo chinês, deu a conhecer que um grupo de 18 empresas e universidades chinesas começaram a trabalhar no projecto. Segundo a publicação, o sistema imitará o Windows 98 e será compatível com os programas do Office (Word, Excel, PowerPoint etc.). Segundo o texto, os criadores do programa desejam enfraquecer o domínio da Microsoft no mercado chinês. A reportagem enfatiza: \"O monopólio dos programas de escritório será rompido\". Uma versão de testes, que se chama Yangfan, supostamente já estaria em uso em algumas repartições públicas da China.\\nSegundo a empresa de análises IDC, o sistema operacional chinês poderá ser baseado no Linux. Já existe uma versão chinesa para o Linux: a Red Flag . O programa Wine, que permite instalar programas do Windows no Linux, poderia ser empregado pelo governo chinês.\\nCriar uma cópia exacta do Windows 98 seria demorado, complexo, com muitos custos e cheio de problemas a nível legal. Mesmo se os programadores conseguissem fazer um clone a partir do zero, não conseguiriam saber ao certo quais os programas que iriam funcionar no sistema. Isto acotnece porque a Microsoft não publica todas as características internas do Windows.\\nTim Harris, que é especialista em sistemas operativos na Universidade de Cambridge, acredita que fazer uma réplica de um sistema inteiro seria muito difícil. \"Chegar a algo que fosse estável e fiável o bastante para os utilizadores seria uma tarefa gigantesca\", diz.\\nVersão para Impressora Enviar Noticia a um Amigo\\n',\n",
       " \"\\nComo se chama? \\n\\nJúlia Gonçalves Afonso.\\n\\nQuantos anos tem? \\n\\n75 anos. \\n\\nPorque começou a tecer? Quem a ensinou? \\n\\nComecei a tecer porque precisava. Tecia para me fazerem o trabalho com o gado. Punha-me ao pé das pessoas que teciam a chegar os fios para enfiarem as teias, e aprendi. \\n\\nHavia muitas tecedeiras naquela época? \\n\\nHavia. Em quase todas as casas havia tecedeiras. \\n\\nQuais as peças que teciam nos teares? \\n\\nLinho, mantas de farrapos, cobertores, cobertas e o burel. \\n\\nEssas peças eram para vender, ou para casa? \\n\\nA maior parte era para casa e para os amigos. Às vezes ia tecer até para aldeias de fora, para quem me pedia. \\n\\nOnde se guardavam? \\n\\nGuardavam-se nas caixas ou penduravam-se nas traves dos sobrados para não dar a traça nas peças de lã. \\n\\nComo se chamava ao conjunto dessas peças todas? \\n\\nChamava-se a 'limpeza da casa'. \\n\\nTinha grande valor a 'limpeza da casa'? \\n\\nTinha muito valor, ainda hoje tem. Eu ainda tenho lençóis bordados e desfiados. Usavam-se para enfeitar a casa quando vinha o padre benzer na Páscoa. Eu até fazia renda de nó, parecido com uma rede e depois bordava-se por cima dessa rede. \\n\\nHoje ainda tece? \\n\\nAinda no outro dia teci, tenho uma peça posta. Mas a minha coluna não deixa. Estive dois dias no tear e agora estou bem mal. \\n\\nO que faz? \\n\\nCobertas, cobertores, com linho comprado em fio ainda há pouco teci uma toalha para o padre Manuel. \\n\\nQuem costuma procurar estas peças para comprar? \\n\\nSe a gente as tivesse havia muito quem comprasse: emigrantes, turistas, etc. \\n\\nAcha importante participar em feiras de artesanato e exposições? \\n\\nAcho muito importante. Eu gostava muito. \\n\\nDiga algumas em que já participou? \\n\\nJá fui a Vila Real, Soajo, Gerês e em todas as feiras de Montalegre, até já fui convidada para Espanha. Tenho agora um convite para ir à Maia mas como a Câmara não dá transporte, não vou. \\n\\nDe qual gostou mais? Porquê? \\n\\nGostei muito da feira do Soajo. Foi bonito e muito alegre. \\n\\nQual era o seu trabalho nestas feiras? Vendia as peças que levava? \\n\\nNumas tecia, noutras fazia croça e em algumas fazia croché. E expunha os trabalhos já feitos. Não nunca vendi nada. Custavam muito a fazer. A quem tocarem sempre me rezarão uma missa por alma. \\n\\nAcha que as pessoas se interessavam por estes trabalhos? \\n\\nInteressavam, gostavam muito de ver. Queriam comprar mas eu não vendia. \\n\\nAlguma das suas filhas sabe tecer? \\n\\nSabe a Ana Maria. As outras casaram cedo. A Ana Maria tece mas se eu lhe puser a teia e para já só tece mantas de farrapos. Fui eu que lhe comprei o tear. Eu já fui monitora de um curso de tecedeiras em Montalegre. \\n\\nSei que além de tecedeira também é croceira, aliás tem uma fotografia numa página da Internet, fale um pouco deste trabalho. \\n\\nAs croças também davam muito trabalho. Eu gostava mais do tear. Mas os rendimentos eram poucos e tínhamos que nos agarrar a tudo. Além disso as croças faziam muita falta para nos abrigarmos no Inverno. Eram pesadas mas mais quentes que estas capas de borracha que usam hoje. Também fui monitora de um curso para croceiras a raparigas da minha aldeia e de fora. Além de croças fazia também as plainas. Neste curso chegamos a ir apanhar os 'jungos' a Paradela, Pisões, etc. Por esses lameiros todos, para ensinar a preparar e tratar os 'jungos'. \\n\\nConte-nos um pouco da história da sua vida... \\n\\nEm pequena fui à escola a Viade, depois fui servir. Estive em casa do Pinto, em Brandim e depois em casa do Miranda cá em Parafita, estive lá muitos anos. Onde além dos trabalhos agrícolas, tecia, fazia croça e remendava os criados. Foi em casa dos Mirandas que conheci o meu marido que era de Brandim. Depois casei contra vontade da minha família. Trabalhou, o meu marido na barragem e mais tarde foi para França onde morreu (tinha a minha filha mais nova 2 anos). E eu fiquei sozinha com 8 filhos, cá os criei. Naquela altura não soube tratar dos documentos e não recebi nada. Mais tarde é que um advogado me tratou dos papéis e consegui tirar uma pequena reforma mas nesta altura já tinha os filhos criados.\\n\",\n",
       " '\\nQual é o seu nome e a sua data de nascimento? \\n\\nPaula Maria da Silva Anjo. Nasci em Angola, a 2 de Junho de 1968. \\n\\nOs nomes dos seus pais? \\n\\nO meu pai é Modesto Moreira Anjo e a minha mãe é Maria de Lurdes Carlos Silva Anjo. \\n\\nTem irmãos? \\n\\nTenho quatro irmãos. Três rapazes e uma rapariga. \\n\\nE os seus avós? \\n\\nDa parte da minha mãe morreu o meu avô há dois anos e da parte do meu pai estão os dois vivos. \\n\\nOnde é que mora? \\n\\nLugar das Parretas em Braga. \\n\\nMorou sempre na cidade de Braga? \\n\\nSempre, desde que vim de Angola. \\n\\nCom que idade veio de Angola? \\n\\nCom 7 anos. \\n\\nTem algumas recordações de Angola? \\n\\nEu não tenho muitas recordações da Angola, nem da infância porque quando eu vim de lá era tempo de guerra e acho que varreu-me completamente as lembranças de quando eu era pequena. \\n\\nMas lembra-se da guerra? \\n\\nLembro-me da guerra e não me lembro da minha infância. \\n\\nQuando veio de Luanda veio logo morar aqui para Braga? \\n\\nNão. Eu não me lembro se vim de barco ou de avião, mas a minha mãe diz que viemos de avião. A única coisa que me ficou na memória, foi quando nós chegamos à estação de Nine. Viemos de comboio do Porto para Nine. E quando chegamos à estação era noite, a minha mãe não tinha ninguém à espera dela e não sabia para onde se havia de virar. Sentou-se nos bancos da estação com nós os dois, eu e o meu irmão mais velho que eu um ano, e começamos todos a chorar. Queríamos comer, queríamos dormir. Não tínhamos onde ir. A minha mãe não sabia onde morava a minha avó. E então, um casal de senhores, já assim de idade, viu-nos a chorar, viu a minha mãe deseperada, e ofereceu-se para andar à procura da casa da minha avó. \\n\\nEntão quando saiu de Luanda o objectivo era juntar-se aos pais da sua mãe? \\n\\nSim. \\n\\nE depois disso quando é que chegou a Braga? \\n\\nTivemos para aí um ou dois anos em Nine, até a minha mãe arranjar casa em Braga. Depois quando arranjou casa viemos para Braga. A casa era em Nogueira, perto da universidade porque a minha mãe trabalhava na universidade. A casa ficava ao pé da Quinta da Capela, quem vai para o Sameiro. \\n\\nHá quantos anos foi? \\n\\nHá quinze ou vinte. \\n\\nE qual a lembrança mais antiga da cidade? \\n\\nSão João do Souto. A parte do seminário, a ruinha que vai dar ao São João do Souto e aquela parte das frigideiras. Da escola, lembro-me de uma professora que era um bocado rígida. \\n\\nNão se lembra que tipo de relações tinha com os seus irmãos, já aqui em Braga? \\n\\nDepois quando vim para cá fui para um colégio interno. Andei praticamente de colégio em colégio. Estive muitos anos num colégio nas Taipas. \\n\\nQuer falar-nos um bocadinho da experiência de viver num colégio interno? \\n\\nQuando viemos para Braga fomos para um seminário em Santiago e a minha mãe, como eu era a única rapariga e como todos os retornados iam para o seminário, para me proteger colocou-me num colégio interno em Guimarães e eu só vinha a casa de quinze em quinze dias ou de mês a mês. \\n\\nE dentro do colégio relacionava-se bem com as outras colegas?\\n\\nRelacionava-me.\\n\\nQue tipo de relação e brincadeiras é que tinham?\\n\\nAquelas de criança, de brincar ao jardim da celeste, à rodinha, à corda, às vezes lá fazia algumas traquinices, mas depois as freiras castigavam-me de noite. \\n\\nQue tipo de castigo?\\n\\nPor exemplo, quando eu dormia de tarde, não me deixavam ir para o recreio, tinha que ficar retirada. Outras vezes, cortavam-me os doces, coisas assim. \\n\\nAs horas de estudo no colégio eram muito rigorosas?\\n\\nA parte de estudo, da escola e de catequese eram muito rigorosas. Para a catequese também tinha horas fixas. \\n\\nE depois porque saiu do colégio?\\n\\nTerminei a escola nese colégio em Guimarães, depois estive no colégio na Rua Santa Margarida, em frente à Sá de Miranda. Fiz todo o meu percurso escolar nos colégios. \\n\\nSempre internos? \\n\\nLembro-me que estive um tempinho no seminário e também me lembro de andar na escola São João de Souto. Andei em Braga, na São João do Souto talvez na primária e depois é que mudei para o colégio. Aqueles primeiros tempos, enquanto não se arranjava colégio em Guimarães, estive em Braga. \\n\\nEm sua casa que recordações é que tem? \\n\\nLembro-me dos fins-de-semana. Vinha de autocarro para Braga e ajudava a minha mãe na cozinha a fazer bolos, que eu gostava de fazer bolos, e ajudava a arrumar. Às vezes pedia para me deixar sair, mas eu era mais caseira, gostava de ficar em casa a ver televisão ou a brincar. \\n\\nOs irmãos também frequentaram os colégios? \\n\\nNão. \\n\\nE então quando chegava a casa a relação que mantinha com eles era mais íntima? \\n\\nAi não, com muitas saudades. \\n\\nVivia com a mãe e com o pai? \\n\\nSim, com os dois. Também tenho uma irmã, praticamente fui eu que a criei. Ela tem 10 anos, nasceu assim fora do tempo. \\n\\nQue tipo de relação é que tem com ela? \\n\\nÉ praticamente a minha filhinha. \\n\\nIsso ajudou-a na sua vida adulta? \\n\\nAjudou-me depois de casar, que eu dizia que não queria ter mais filhos, porque tomar conta da minha irmã deu-me muito trabalho. Levantava-me de manhã com ela a berrar que não se queria vestia. Eu vestia-a e ela despia-se. Ia para o colégio de pijama e as freiras depois vestiam-na. E eu dizia: \"Eu nunca vou querer filho!\" \\n\\nEm termos profissionais tinha algum sonho. Alguma carreira que gostasse de seguir?\\n\\nA carreira que eu gostava de seguir era ginástica desportiva, daquela de salto, porque eu adoro o desporto. Adorava ver aquelas ginastas, aqueles saltos no solo. Ainda estive um ano em desporto, depois a minha mãe dizia que o curso de desporto era assim mais para homens, não ficava bem em mulheres, e não me deixou seguir. Optei então, por outro curso. \\n\\nCuidar da irmã, estudar em colégios, até que ponto isso influenciou a sua vivência?\\n\\nEu acho que o andar em colégios, o facto de não poder vir cá para fora falar com as pessoas, tornou-me uma pessoa mais isolada. Acho que, ainda hoje, me isolo muito à conta de ter andado nos colégios. Posso ser aberta no serviço porque já tenho muita confiança, mas toda a gente me pergunta porque é que, fora da universidade, ando sempre sozinha ou ando com a filha e nunca ando com o marido. Eu acho que fiquei um bocado distanciada, isolada, por causa de andar nos colégios.\\n\\nEra capaz de definir o tipo de educação que teve?\\n\\nNão posso dizer que foi uma educação rígida porque eu gostei. Agora, gosto mais do que gostei no colégio, porque naquela altura o que eu queria era sair de lá. Mas pensando bem, reflectindo o que passei lá, gostei do que estive lá a fazer durante muitos anos.\\n\\nGostava de ter continuado a estudar?\\n\\nA minha intenção era tirar o curso de ginástica. \\n\\nComo surgiu a profissão de assistente administrativa na Universidade do Minho?\\n\\nQuando eu andava a estudar, comecei a ir para o trabalho da minha mãe, que também era secretária na Universidade do Minho.Ela tinha o computador e eu ia mexendo no computador, ia fazendo umas coizinhas, e depois os professores começaram a ver que eu já me desenrascava um bocadito e começaram a pedir-me para fazer trabalhos. Já que estava a estudar ia ganhando algum e comecei a fazer trabalhos na Abade da Loureira, no Instituto de Educação. Ia fazendo currículos, ia fazendo relatórios e eles iam-me pagando. Comecei a gostar dos computadores, apegou-se o bichinho e comecei a aperfeiçoar-me melhor. Tirei o curso de formação, no Centro de Formação de Informática do Minho.\\n\\nE nessa altura já trabalhava na universidade?\\n\\nNão, ainda não estava a trabalhar na Universidade do Minho, estava a estudar, Alberto Sampaio e ia concorrendo. Cada vez que saíam concursos nos jornais para a função pública, eu fazia uma candidatura e mandava. Ia fazendo o curso aumentava o currículo e mandava. Ia mandando, até que uma vez deu-me para ir às provas e fiquei.\\n\\nE daí ficou efectiva na Universidade?\\n\\nEfectiva, para um dos lugares internos do quadro.\\n\\nApesar de não ser o curso de paixão, gosta do que faz?\\n\\nGosto.\\n\\nSe pudesse neste momento escolhia outra coisa?\\n\\nNeste momento só tentei concorrer para os bancos, por uma questão monetária. Nos bancos ganha-se muito melhor. Não tem a ver com o facto do serviço ser melhor ou deixar de ser, porque eu acho que o vencimento de um funcionário público não é justo, em relação ao que eles trabalham. Uma pessoa está aqui há treze anos, sempre na mesma categoria, sempre a receber aquele dinheiro, mais dois continhos num mês, mais dois no outro ano.\\n\\nNão mudam de escalão?\\n\\nDe três em três anos.\\n\\nSó nessa altura é que são aumentados?\\n\\nMais dois ou três continhos, e é por causa disso que uma pessoa tem que arranjar sítios melhores. Por isso é que já concorri para bancos.\\n\\nContinua a fazer trabalhos extras?\\n\\nAgora cada vez há menos, não há tanta procura como antigamente. Agora toda a gente tem computador.\\n\\nAgora os professores já não procuram tanto?\\n\\nOs professores talvez, mas alunos já tive mais do que actualmente. Os professores, também já tive mais, mas tenho um número de clientes fixos.\\n\\nO facto de a universidade disponibilizar os computadores para os alunos também influenciou isso?\\n\\nEles têm os laboratórios no Centro de Informática. Só me aparecem quando é para entregar o trabalho no dia seguinte e não o têm feito: - \"Ai, eu preciso de entregar o trabalho amanhã!\"\\n\\nÉ casada?\\n\\nSim, sou casada há sete anos.\\n\\nQuantos filhos tem?\\n\\nUma menina, Bruna Filipa Anjo Dias, com quatro anos e meio, veio sem eu contar.\\n\\nNão estava previsto?\\n\\nNão, senão também nunca mais tinha.\\n\\nMas está contente?\\n\\nEstou.\\n\\nQuando saiu da casa dos seus pais?\\n\\nHá sete anos, na altura em que casei.\\n\\nComo é que foi sair da casa dos pais?\\n\\nChorei tanto nesse dia! Até na igreja quando estava vestida de noiva chorava, e o meu pai dizia - \"Não te cases!\"\\n',\n",
       " \"\\nAmigos, \\n A Ancib esta' cobrando sua anuidade referente ao ano de 2001. \\n Esperamos que novos simpatizantes da Lista se associem. \\n A anuidade continua congelada em 60 reais. \\n Sendo socio voce passa ter acesso a lista privativa dos socios no Yahoo, a Lista ancib-l no alternex e a desconto de 50 % em todas as atividades, produtos e eventos da ancib ou com sua participacao. \\n A Ancib, como associada da SBPC permite seus socios podem serem membros da SBPC por 30 reais, receber o Boletim da SBPC pelo correio e ter desconto de 50 % nas reunioes anuais da SBPC. \\n A Lista ancib-l continuara' aberta para todos. \\n Socios e nao socios. \\n Contudo, o Alternex esta' atualizando seu sistema de listas e os socios da ANCIB terao consulta on line da lista ancib-l e ao arquivo de todas as mensagens dissiminadas. \\n Discussoes online sob topicos disseminados no dia , tambem , esta' previsto para os socios. \\n Se voce quer se tornar um - novo - socio da ANCIB va ate'. \\n Se voce ja' e' um dos nossos socios : \\n IMPORTANTE : \\n Pagar anuidade de R$ 60,00, na conta da ANCIB no Banco do Brasil, Agencia: \\n 0287-9 Botafogo, Rio de Janeiro, Conta n. 309.086-8 e contatar Selma Santiago : Telefax (21) 2750049 ou Email para repassar o comprovante de deposito e receber o seu Recibo de Pagamento da Anuidade. \\n Um grande abraco em todos. \\n Aldo de Albuquerque Barreto, Presidente\\n Associacao Nacional de Pesquisa e Pos-Graduacao em Ciencia da Informacao\\n http://www.alternex.com.br/~aldoibct/ancib.html\\n\"]"
      ]
     },
     "execution_count": 18,
     "metadata": {},
     "output_type": "execute_result"
    }
   ],
   "source": [
    "docs[0:10]"
   ]
  },
  {
   "cell_type": "code",
   "execution_count": 11,
   "metadata": {},
   "outputs": [],
   "source": [
    "sentences = []\n",
    "for doc in docs:\n",
    "    doc = nlp(doc)\n",
    "    sentences.extend([sent.string.strip() for sent in doc.sents])"
   ]
  },
  {
   "cell_type": "code",
   "execution_count": 12,
   "metadata": {},
   "outputs": [
    {
     "data": {
      "text/plain": [
       "3686"
      ]
     },
     "execution_count": 12,
     "metadata": {},
     "output_type": "execute_result"
    }
   ],
   "source": [
    "len(sentences)"
   ]
  },
  {
   "cell_type": "code",
   "execution_count": 17,
   "metadata": {},
   "outputs": [
    {
     "data": {
      "text/plain": [
       "['W. JAMES\\nWillian',\n",
       " 'James\\nWillian James, filósofo e psicólogo.',\n",
       " 'Foi o mais influente dos pensadores dos EUA, criador do pragmatismo.',\n",
       " 'Nasceu e, Nova Iorque, a 11 de Janeiro de 1842.',\n",
       " 'O seu pai, Henru James, era um teólogo seguidor de Emanuel Swedenborg.',\n",
       " 'Um dos seus irmãos foi o conhecido novelista Henry James.',\n",
       " 'Concluiu os seus estudos de medicina, em 1870, na Universidade de Harvard, onde iniciou a sua carreira como professor de fisiologia em 1872.',\n",
       " 'A partir de 1880 ensinou psicologia e filosofia em Harvard, universidade que abandonou em 1907, proferindo conferências nas universidades de Columbia e Oxford.',\n",
       " 'Morreu em Chocorua, New Hampshire, a 26 de Agosto de 1910.',\n",
       " 'Obras\\nPrincípios de Psicologia (1890), uma obra monumental que o projectou na comunidade científica e filosófica do tempo.']"
      ]
     },
     "execution_count": 17,
     "metadata": {},
     "output_type": "execute_result"
    }
   ],
   "source": [
    "sentences[0:10]"
   ]
  },
  {
   "cell_type": "code",
   "execution_count": 13,
   "metadata": {
    "collapsed": true
   },
   "outputs": [],
   "source": [
    "import nltk.data\n",
    "\n",
    "tokenizer = nltk.data.load('tokenizers/punkt/portuguese.pickle')\n",
    "##print '\\n-----\\n'.join(tokenizer.tokenize(data))"
   ]
  },
  {
   "cell_type": "code",
   "execution_count": 15,
   "metadata": {},
   "outputs": [
    {
     "name": "stdout",
     "output_type": "stream",
     "text": [
      "['\\n\\nW. JAMES\\nWillian James\\nWillian James, filósofo e psicólogo.', 'Foi o mais influente dos pensadores dos EUA, criador do pragmatismo.', 'Nasceu e, Nova Iorque, a 11 de Janeiro de 1842.', 'O seu pai, Henru James, era um teólogo seguidor de Emanuel Swedenborg.', 'Um dos seus irmãos foi o conhecido novelista Henry James.', 'Concluiu os seus estudos de medicina, em 1870, na Universidade de Harvard, onde iniciou a sua carreira como professor de fisiologia em 1872.', 'A partir de 1880 ensinou psicologia e filosofia em Harvard, universidade que abandonou em 1907, proferindo conferências nas universidades de Columbia e Oxford.', 'Morreu em Chocorua, New Hampshire, a 26 de Agosto de 1910.', 'Obras\\nPrincípios de Psicologia (1890), uma obra monumental que o projectou na comunidade científica e filosófica do tempo.', 'A Vontade de Crer e Outros Ensaios Sobre Filosofia Popular (1897), A Imortalidade Humana (1898), Diversidade da Experiência Religiosa (1902).', 'Pragmatismo: um nome novo para velhas formas de pensar (1907).', 'Esta obra resume as contribuições de Willian James para o pragmatismo, termo empregue pela primeira vez por Charles Peirce.', 'Principais Domínios de Investigação\\nWillian James aplica à psicologia o princípio do funcionalismo, integrando-a no conjunto das ciências experimentais.', 'Durante décadas aplicou os seus métodos empíricos à investigação de temas religiosos e filosóficos.', 'Explorou a questão da existência de Deus, a imortalidade da alma, o livre arbítrio e os valores éticos, como fonte da experiência religiosa e moral.', 'O método pragmático, desenvolvido a partir da análise do fundamento lógico das ciências, converte-se na base da avaliação de qualquer experiência.', 'O significado das ideias só pode ser analisado a partir das suas consequências.', 'Se não produzem efeitos as ideias não têm sentido As ideias metafisicas são desprovidas de sentido porque não podem ser comprovadas.', 'As teorias com significado, segundo Willian James, são aquelas que permitem resolver problemas que decorrem da experiência.', 'Carlos Fontes\\nNavegando na Filosofia']\n"
     ]
    }
   ],
   "source": [
    "print(tokenizer.tokenize(docs[0]))"
   ]
  },
  {
   "cell_type": "code",
   "execution_count": 16,
   "metadata": {},
   "outputs": [
    {
     "data": {
      "text/plain": [
       "2921"
      ]
     },
     "execution_count": 16,
     "metadata": {},
     "output_type": "execute_result"
    }
   ],
   "source": [
    "sentences_nltk = []\n",
    "for doc in docs:\n",
    "    sentences_nltk.extend(tokenizer.tokenize(doc))\n",
    "len(sentences_nltk)    "
   ]
  },
  {
   "cell_type": "code",
   "execution_count": 19,
   "metadata": {},
   "outputs": [
    {
     "data": {
      "text/plain": [
       "['\\n\\nW. JAMES\\nWillian James\\nWillian James, filósofo e psicólogo.',\n",
       " 'Foi o mais influente dos pensadores dos EUA, criador do pragmatismo.',\n",
       " 'Nasceu e, Nova Iorque, a 11 de Janeiro de 1842.',\n",
       " 'O seu pai, Henru James, era um teólogo seguidor de Emanuel Swedenborg.',\n",
       " 'Um dos seus irmãos foi o conhecido novelista Henry James.',\n",
       " 'Concluiu os seus estudos de medicina, em 1870, na Universidade de Harvard, onde iniciou a sua carreira como professor de fisiologia em 1872.',\n",
       " 'A partir de 1880 ensinou psicologia e filosofia em Harvard, universidade que abandonou em 1907, proferindo conferências nas universidades de Columbia e Oxford.',\n",
       " 'Morreu em Chocorua, New Hampshire, a 26 de Agosto de 1910.',\n",
       " 'Obras\\nPrincípios de Psicologia (1890), uma obra monumental que o projectou na comunidade científica e filosófica do tempo.',\n",
       " 'A Vontade de Crer e Outros Ensaios Sobre Filosofia Popular (1897), A Imortalidade Humana (1898), Diversidade da Experiência Religiosa (1902).']"
      ]
     },
     "execution_count": 19,
     "metadata": {},
     "output_type": "execute_result"
    }
   ],
   "source": [
    "sentences_nltk[0:10]"
   ]
  },
  {
   "cell_type": "code",
   "execution_count": 20,
   "metadata": {},
   "outputs": [
    {
     "data": {
      "text/plain": [
       "['\\n\\nW. JAMES\\nWillian James\\nWillian James, filósofo e psicólogo.',\n",
       " 'Foi o mais influente dos pensadores dos EUA, criador do pragmatismo.',\n",
       " 'Nasceu e, Nova Iorque, a 11 de Janeiro de 1842.',\n",
       " 'O seu pai, Henru James, era um teólogo seguidor de Emanuel Swedenborg.',\n",
       " 'Um dos seus irmãos foi o conhecido novelista Henry James.',\n",
       " 'Concluiu os seus estudos de medicina, em 1870, na Universidade de Harvard, onde iniciou a sua carreira como professor de fisiologia em 1872.',\n",
       " 'A partir de 1880 ensinou psicologia e filosofia em Harvard, universidade que abandonou em 1907, proferindo conferências nas universidades de Columbia e Oxford.',\n",
       " 'Morreu em Chocorua, New Hampshire, a 26 de Agosto de 1910.',\n",
       " 'Obras\\nPrincípios de Psicologia (1890), uma obra monumental que o projectou na comunidade científica e filosófica do tempo.',\n",
       " 'A Vontade de Crer e Outros Ensaios Sobre Filosofia Popular (1897), A Imortalidade Humana (1898), Diversidade da Experiência Religiosa (1902).',\n",
       " 'Pragmatismo: um nome novo para velhas formas de pensar (1907).',\n",
       " 'Esta obra resume as contribuições de Willian James para o pragmatismo, termo empregue pela primeira vez por Charles Peirce.',\n",
       " 'Principais Domínios de Investigação\\nWillian James aplica à psicologia o princípio do funcionalismo, integrando-a no conjunto das ciências experimentais.',\n",
       " 'Durante décadas aplicou os seus métodos empíricos à investigação de temas religiosos e filosóficos.',\n",
       " 'Explorou a questão da existência de Deus, a imortalidade da alma, o livre arbítrio e os valores éticos, como fonte da experiência religiosa e moral.',\n",
       " 'O método pragmático, desenvolvido a partir da análise do fundamento lógico das ciências, converte-se na base da avaliação de qualquer experiência.',\n",
       " 'O significado das ideias só pode ser analisado a partir das suas consequências.',\n",
       " 'Se não produzem efeitos as ideias não têm sentido As ideias metafisicas são desprovidas de sentido porque não podem ser comprovadas.',\n",
       " 'As teorias com significado, segundo Willian James, são aquelas que permitem resolver problemas que decorrem da experiência.',\n",
       " 'Carlos Fontes\\nNavegando na Filosofia']"
      ]
     },
     "execution_count": 20,
     "metadata": {},
     "output_type": "execute_result"
    }
   ],
   "source": [
    "from nltk.tokenize.punkt import PunktSentenceTokenizer, PunktParameters\n",
    "punkt_param = PunktParameters()\n",
    "abbreviation = ['W.']\n",
    "punkt_param.abbrev_types = set(abbreviation)\n",
    "tokenizer = PunktSentenceTokenizer(punkt_param)\n",
    "tokenizer.tokenize(docs[0])"
   ]
  },
  {
   "cell_type": "code",
   "execution_count": null,
   "metadata": {
    "collapsed": true
   },
   "outputs": [],
   "source": []
  }
 ],
 "metadata": {
  "kernelspec": {
   "display_name": "machine-learning",
   "language": "python",
   "name": "machine-learning"
  },
  "language_info": {
   "codemirror_mode": {
    "name": "ipython",
    "version": 3
   },
   "file_extension": ".py",
   "mimetype": "text/x-python",
   "name": "python",
   "nbconvert_exporter": "python",
   "pygments_lexer": "ipython3",
   "version": "3.6.3"
  }
 },
 "nbformat": 4,
 "nbformat_minor": 2
}
